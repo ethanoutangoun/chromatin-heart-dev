{
 "cells": [
  {
   "cell_type": "markdown",
   "metadata": {},
   "source": [
    "# Expanse Notebook for Computational Analysis of Chromatin During Heart Development"
   ]
  },
  {
   "cell_type": "markdown",
   "metadata": {},
   "source": [
    "This notebook will be used exclusively to perform expensive operations on Expanse. "
   ]
  },
  {
   "cell_type": "markdown",
   "metadata": {},
   "source": [
    "### Setup"
   ]
  },
  {
   "cell_type": "code",
   "execution_count": 4,
   "metadata": {},
   "outputs": [
    {
     "name": "stdout",
     "output_type": "stream",
     "text": [
      "The autoreload extension is already loaded. To reload it, use:\n",
      "  %reload_ext autoreload\n"
     ]
    }
   ],
   "source": [
    "%load_ext autoreload\n",
    "%autoreload 2"
   ]
  },
  {
   "cell_type": "code",
   "execution_count": 5,
   "metadata": {},
   "outputs": [],
   "source": [
    "import numpy as np\n",
    "import pandas as pd\n",
    "import matplotlib.pyplot as plt\n",
    "from matplotlib.ticker import ScalarFormatter\n",
    "from tqdm import tqdm\n",
    "from time import time\n",
    "\n",
    "# TODO: Move functions to separate modules\n",
    "import functions as f\n",
    "\n",
    "import core.background_model as background_model\n",
    "import core.clique_finding as cf\n",
    "import core.stats as stats"
   ]
  },
  {
   "cell_type": "code",
   "execution_count": 6,
   "metadata": {},
   "outputs": [],
   "source": [
    "# GLOBALS\n",
    "\n",
    "TTN_BIN = 4275\n",
    "BIN_MAP_PATH = 'mappings/bin_map_human_100000.bed'\n",
    "GTF_PATH = 'mappings/gencode.v38.annotation.gtf'\n",
    "GENE_BIN_PATH = 'mappings/gene_bins.txt'\n",
    "NON_GENE_BIN_PATH = 'mappings/non_gene_bins.txt'\n",
    "\n"
   ]
  },
  {
   "cell_type": "code",
   "execution_count": 7,
   "metadata": {},
   "outputs": [
    {
     "name": "stderr",
     "output_type": "stream",
     "text": [
      "100%|█████████████████████████████████████████████████████████████████████████████████████| 30894/30894 [00:10<00:00, 2871.04it/s]\n"
     ]
    }
   ],
   "source": [
    "# LOADING DATA\n",
    "\n",
    "bin_map = f.load_bin_map(BIN_MAP_PATH)\n",
    "contact_matrix_zero = np.load('samples/contact_matrix_100kb_balanced_zeroed.npy')\n",
    "neighbors, cdfs = f.build_walk_index(contact_matrix_zero) \n",
    "gene_bins = [int(line.strip()) for line in open(GENE_BIN_PATH).readlines()]\n",
    "non_gene_bins = [int(line.strip()) for line in open(NON_GENE_BIN_PATH).readlines()]"
   ]
  },
  {
   "cell_type": "markdown",
   "metadata": {},
   "source": [
    "## Fold Change vs Reset Alpha"
   ]
  },
  {
   "cell_type": "code",
   "execution_count": 11,
   "metadata": {},
   "outputs": [
    {
     "name": "stderr",
     "output_type": "stream",
     "text": [
      "Random walks: 100%|█████████████████████████████████████████████████████████████████████████| 1000/1000 [14:45<00:00,  1.13iter/s]\n"
     ]
    },
    {
     "ename": "NameError",
     "evalue": "name 'n' is not defined",
     "output_type": "error",
     "traceback": [
      "\u001b[0;31m---------------------------------------------------------------------------\u001b[0m",
      "\u001b[0;31mNameError\u001b[0m                                 Traceback (most recent call last)",
      "Cell \u001b[0;32mIn[11], line 9\u001b[0m\n\u001b[1;32m      6\u001b[0m p_values     \u001b[38;5;241m=\u001b[39m []\n\u001b[1;32m      8\u001b[0m \u001b[38;5;28;01mfor\u001b[39;00m alpha \u001b[38;5;129;01min\u001b[39;00m alphas:\n\u001b[0;32m----> 9\u001b[0m     bg_strong \u001b[38;5;241m=\u001b[39m \u001b[43mbackground_model\u001b[49m\u001b[38;5;241;43m.\u001b[39;49m\u001b[43mcreate_rw\u001b[49m\u001b[43m(\u001b[49m\u001b[43mcontact_matrix_zero\u001b[49m\u001b[43m,\u001b[49m\u001b[43m \u001b[49m\u001b[43mclique_size\u001b[49m\u001b[43m,\u001b[49m\u001b[43m \u001b[49m\u001b[43mbins\u001b[49m\u001b[38;5;241;43m=\u001b[39;49m\u001b[43mgene_bins\u001b[49m\u001b[43m,\u001b[49m\u001b[43m \u001b[49m\u001b[43mlabel\u001b[49m\u001b[38;5;241;43m=\u001b[39;49m\u001b[38;5;124;43m'\u001b[39;49m\u001b[38;5;124;43mstrong\u001b[39;49m\u001b[38;5;124;43m'\u001b[39;49m\u001b[43m,\u001b[49m\u001b[43m \u001b[49m\u001b[43mnum_molecules\u001b[49m\u001b[38;5;241;43m=\u001b[39;49m\u001b[38;5;241;43m10000\u001b[39;49m\u001b[43m,\u001b[49m\u001b[43m \u001b[49m\u001b[43mneighbors\u001b[49m\u001b[38;5;241;43m=\u001b[39;49m\u001b[43mneighbors\u001b[49m\u001b[43m,\u001b[49m\u001b[43m \u001b[49m\u001b[43mcdfs\u001b[49m\u001b[38;5;241;43m=\u001b[39;49m\u001b[43mcdfs\u001b[49m\u001b[43m,\u001b[49m\u001b[43m \u001b[49m\u001b[43mnum_iterations\u001b[49m\u001b[38;5;241;43m=\u001b[39;49m\u001b[43mnum_iterations\u001b[49m\u001b[43m,\u001b[49m\u001b[43m \u001b[49m\u001b[43malpha\u001b[49m\u001b[38;5;241;43m=\u001b[39;49m\u001b[43malpha\u001b[49m\u001b[43m,\u001b[49m\u001b[43m \u001b[49m\u001b[43mplot\u001b[49m\u001b[38;5;241;43m=\u001b[39;49m\u001b[38;5;28;43;01mFalse\u001b[39;49;00m\u001b[43m)\u001b[49m\n\u001b[1;32m     10\u001b[0m     bg_weak \u001b[38;5;241m=\u001b[39m background_model\u001b[38;5;241m.\u001b[39mcreate_rw(contact_matrix_zero, clique_size, bins\u001b[38;5;241m=\u001b[39mnon_gene_bins, label\u001b[38;5;241m=\u001b[39m\u001b[38;5;124m'\u001b[39m\u001b[38;5;124mweak\u001b[39m\u001b[38;5;124m'\u001b[39m, num_molecules\u001b[38;5;241m=\u001b[39m\u001b[38;5;241m10000\u001b[39m, neighbors\u001b[38;5;241m=\u001b[39mneighbors, cdfs\u001b[38;5;241m=\u001b[39mcdfs, num_iterations\u001b[38;5;241m=\u001b[39mnum_iterations, alpha\u001b[38;5;241m=\u001b[39malpha, plot\u001b[38;5;241m=\u001b[39m\u001b[38;5;28;01mFalse\u001b[39;00m)\n\u001b[1;32m     13\u001b[0m     fold_change \u001b[38;5;241m=\u001b[39m np\u001b[38;5;241m.\u001b[39mmedian(bg_strong) \u001b[38;5;241m/\u001b[39m np\u001b[38;5;241m.\u001b[39mmedian(bg_weak)\n",
      "File \u001b[0;32m/expanse/lustre/scratch/eoutangoun/temp_project/chromatin-heart-dev/core/background_model.py:120\u001b[0m, in \u001b[0;36mcreate_rw\u001b[0;34m(contact_matrix, clique_size, bins, neighbors, cdfs, num_molecules, num_iterations, alpha, label, plot, write)\u001b[0m\n\u001b[1;32m    117\u001b[0m     plt\u001b[38;5;241m.\u001b[39mshow()\n\u001b[1;32m    119\u001b[0m \u001b[38;5;28;01mif\u001b[39;00m write:\n\u001b[0;32m--> 120\u001b[0m     fname \u001b[38;5;241m=\u001b[39m \u001b[38;5;124mf\u001b[39m\u001b[38;5;124m'\u001b[39m\u001b[38;5;124mrw_scores_\u001b[39m\u001b[38;5;132;01m{\u001b[39;00mn\u001b[38;5;132;01m}\u001b[39;00m\u001b[38;5;124m_molecules_\u001b[39m\u001b[38;5;132;01m{\u001b[39;00mnum_molecules\u001b[38;5;132;01m}\u001b[39;00m\u001b[38;5;124m_iters_\u001b[39m\u001b[38;5;132;01m{\u001b[39;00mnum_iterations\u001b[38;5;132;01m}\u001b[39;00m\u001b[38;5;124m_alpha_\u001b[39m\u001b[38;5;132;01m{\u001b[39;00malpha\u001b[38;5;132;01m}\u001b[39;00m\u001b[38;5;124m_\u001b[39m\u001b[38;5;132;01m{\u001b[39;00mlabel\u001b[38;5;132;01m}\u001b[39;00m\u001b[38;5;124m.txt\u001b[39m\u001b[38;5;124m'\u001b[39m\n\u001b[1;32m    121\u001b[0m     path \u001b[38;5;241m=\u001b[39m os\u001b[38;5;241m.\u001b[39mpath\u001b[38;5;241m.\u001b[39mjoin(output_dir, fname)\n\u001b[1;32m    122\u001b[0m     \u001b[38;5;28;01mwith\u001b[39;00m \u001b[38;5;28mopen\u001b[39m(path, \u001b[38;5;124m'\u001b[39m\u001b[38;5;124mw\u001b[39m\u001b[38;5;124m'\u001b[39m) \u001b[38;5;28;01mas\u001b[39;00m fh:\n",
      "\u001b[0;31mNameError\u001b[0m: name 'n' is not defined"
     ]
    }
   ],
   "source": [
    "clique_size     = 10\n",
    "num_iterations  = 1000\n",
    "alphas          = [0.05, 0.07, 0.1, 0.2, 0.3, 0.5, 0.75, 0.99]\n",
    "\n",
    "fold_changes = []\n",
    "p_values     = []\n",
    "\n",
    "for alpha in alphas:\n",
    "    bg_strong = background_model.create_rw(contact_matrix_zero, clique_size, bins=gene_bins, label='strong', num_molecules=10000, neighbors=neighbors, cdfs=cdfs, num_iterations=num_iterations, alpha=alpha, plot=False)\n",
    "    bg_weak = background_model.create_rw(contact_matrix_zero, clique_size, bins=non_gene_bins, label='weak', num_molecules=10000, neighbors=neighbors, cdfs=cdfs, num_iterations=num_iterations, alpha=alpha, plot=False)\n",
    "\n",
    "\n",
    "    fold_change = np.median(bg_strong) / np.median(bg_weak)\n",
    "    _, p_value  = stats.mannwhitneyu(bg_strong, bg_weak, alternative='greater')\n",
    "\n",
    "    fold_changes.append(fold_change)\n",
    "    p_values.append(p_value)\n",
    "\n",
    "\n",
    "\n",
    "fig, (ax1, ax2) = plt.subplots(1, 2, figsize=(12, 5), sharex=True)\n",
    "\n",
    "# fold-Change vs alpha\n",
    "ax1.plot(alphas, fold_changes, marker='o')\n",
    "ax1.set_xscale('log')\n",
    "ax1.set_xticks(alphas)\n",
    "ax1.get_xaxis().set_major_formatter(ScalarFormatter())\n",
    "ax1.set_xlabel('Alpha Value')\n",
    "ax1.set_ylabel('Fold Change')\n",
    "ax1.set_title('Fold Change vs Alpha')\n",
    "ax1.grid(True)\n",
    "\n",
    "# p-value vs alpha with p=0.05 line\n",
    "ax2.plot(alphas, p_values, marker='s')\n",
    "ax2.axhline(0.05, linestyle='--', color='red', label='p = 0.05')\n",
    "ax2.set_xscale('log')\n",
    "ax2.set_xticks(alphas)\n",
    "ax2.get_xaxis().set_major_formatter(ScalarFormatter())\n",
    "ax2.set_xlabel('Alpha Value')\n",
    "ax2.set_ylabel('Mann–Whitney p-Value')\n",
    "ax2.set_title('p-Value vs Alpha')\n",
    "\n",
    "\n",
    "max_p = max(p_values)\n",
    "top = max(max_p * 1.1, 0.05)\n",
    "ax2.set_ylim(0, top)\n",
    "\n",
    "ax2.legend()\n",
    "ax2.grid(True)\n",
    "\n",
    "plt.tight_layout()\n",
    "plt.show()"
   ]
  },
  {
   "cell_type": "markdown",
   "metadata": {},
   "source": [
    "### Get 40-Clique of TTN and Corresponding Genes"
   ]
  },
  {
   "cell_type": "code",
   "execution_count": 9,
   "metadata": {},
   "outputs": [],
   "source": [
    "top_40_clique_rw = cf.random_walk(contact_matrix_zero, TTN_BIN, 40, num_molecules=100000, alpha=0.05, neighbors=neighbors, cdfs=cdfs)"
   ]
  },
  {
   "cell_type": "code",
   "execution_count": 10,
   "metadata": {},
   "outputs": [],
   "source": [
    "top_40_clique_greedy = cf.find_greedy_clique(\n",
    "    contact_matrix_zero, 40, TTN_BIN\n",
    ")"
   ]
  },
  {
   "cell_type": "code",
   "execution_count": 11,
   "metadata": {},
   "outputs": [
    {
     "name": "stdout",
     "output_type": "stream",
     "text": [
      "Overlapping nodes between the two cliques:\n",
      "[ 4275 30357 30369 30478]\n"
     ]
    }
   ],
   "source": [
    "# overlapping nodes from the two cliques\n",
    "overlapping_nodes = np.intersect1d(top_40_clique_rw, top_40_clique_greedy)\n",
    "print(\"Overlapping nodes between the two cliques:\")\n",
    "print(overlapping_nodes)\n"
   ]
  },
  {
   "cell_type": "code",
   "execution_count": 12,
   "metadata": {},
   "outputs": [
    {
     "name": "stdout",
     "output_type": "stream",
     "text": [
      "TTN Clique: [ 4275 30478 28240 28248 30543 27873 30350 30378 30387 30386 30369 30432\n",
      " 30586 30357 28243 30434 28236 21918 27880 30423 24025 27887 28358 27881\n",
      " 28361 28377 28366 27139 20604 27886 28247 28364 27889 11886 30359 19160\n",
      " 27835  8796 28212 21915]\n",
      "Time taken: 417.7960503101349 seconds\n"
     ]
    }
   ],
   "source": [
    "start = time()\n",
    "top_40_diffusion = cf.analytical_diffusion_clique(contact_matrix_zero, TTN_BIN, 40, alpha=0.05)[0]\n",
    "\n",
    "end = time()\n",
    "print(\"TTN Clique:\", top_40_diffusion)\n",
    "print(f\"Time taken: {end - start} seconds\")\n",
    "\n",
    "with open(\"TTN_BINS_ANALYTICAL_DIFFUSION.txt\", 'w') as out:\n",
    "    for bin in top_40_diffusion:\n",
    "        out.write(f\"{bin}\\n\")\n"
   ]
  },
  {
   "cell_type": "code",
   "execution_count": 13,
   "metadata": {},
   "outputs": [
    {
     "name": "stdout",
     "output_type": "stream",
     "text": [
      "Overlapping nodes between the two cliques:\n",
      "[ 4275 24025 27873 27881 27887 28236 28248 28364 30357 30369 30378 30478\n",
      " 30543 30586]\n"
     ]
    }
   ],
   "source": [
    "# overlapping nodes from the two cliques\n",
    "overlapping_nodes_diffusion = np.intersect1d(top_40_clique_rw, top_40_diffusion)\n",
    "print(\"Overlapping nodes between the two cliques:\")\n",
    "print(overlapping_nodes_diffusion)"
   ]
  },
  {
   "cell_type": "code",
   "execution_count": 15,
   "metadata": {},
   "outputs": [
    {
     "name": "stderr",
     "output_type": "stream",
     "text": [
      "100%|█████████████████████████████████████████████████████████████████████████████████████████████| 40/40 [06:43<00:00, 10.08s/it]\n"
     ]
    }
   ],
   "source": [
    "from tqdm import tqdm\n",
    "\n",
    "TTN_GENES = set()\n",
    "for bin in tqdm(top_40_diffusion):\n",
    "    genes = f.find_gene_from_bin(bin, BIN_MAP_PATH, GTF_PATH)\n",
    "    TTN_GENES.update(genes)\n",
    "\n",
    "\n",
    "    "
   ]
  },
  {
   "cell_type": "code",
   "execution_count": 16,
   "metadata": {},
   "outputs": [],
   "source": [
    "with open(\"TTN_GENES_ANALYTICAL_DIFFUSION.txt\", 'w') as out:\n",
    "    for bin in TTN_GENES:\n",
    "        out.write(f\"{bin}\\n\")\n"
   ]
  }
 ],
 "metadata": {
  "kernelspec": {
   "display_name": "Python (chromatin38)",
   "language": "python",
   "name": "chromatin38"
  },
  "language_info": {
   "codemirror_mode": {
    "name": "ipython",
    "version": 3
   },
   "file_extension": ".py",
   "mimetype": "text/x-python",
   "name": "python",
   "nbconvert_exporter": "python",
   "pygments_lexer": "ipython3",
   "version": "3.8.20"
  }
 },
 "nbformat": 4,
 "nbformat_minor": 4
}
