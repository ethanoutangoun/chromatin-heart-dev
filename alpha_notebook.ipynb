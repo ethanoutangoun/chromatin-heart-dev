{
 "cells": [
  {
   "cell_type": "code",
   "execution_count": 1,
   "id": "d5578399",
   "metadata": {},
   "outputs": [],
   "source": [
    "%load_ext autoreload\n",
    "%autoreload 2"
   ]
  },
  {
   "cell_type": "code",
   "execution_count": 2,
   "id": "ce83de5e",
   "metadata": {},
   "outputs": [],
   "source": [
    "import numpy as np\n",
    "import pandas as pd\n",
    "import matplotlib.pyplot as plt\n",
    "from matplotlib.ticker import ScalarFormatter\n",
    "from tqdm import tqdm\n",
    "from time import time\n",
    "\n",
    "# TODO: Move functions to separate modules\n",
    "import functions as f\n",
    "\n",
    "import core.background_model as background_model\n",
    "import core.clique_finding as cf\n",
    "import core.stats "
   ]
  },
  {
   "cell_type": "code",
   "execution_count": 3,
   "id": "5539c210",
   "metadata": {},
   "outputs": [],
   "source": [
    "# GLOBALS\n",
    "\n",
    "TTN_BIN = 4275\n",
    "BIN_MAP_PATH = 'mappings/bin_map_human_100000.bed'\n",
    "GTF_PATH = 'mappings/gencode.v38.annotation.gtf'\n",
    "GENE_BIN_PATH = 'mappings/gene_bins.txt'\n",
    "NON_GENE_BIN_PATH = 'mappings/non_gene_bins.txt'\n",
    "\n",
    "\n",
    "gene_bins = []\n",
    "with open('mappings/gene_bins.txt', 'r') as file:\n",
    "    for line in file:\n",
    "        gene_bins.append(line.strip())\n",
    "gene_bins = [int(x) for x in gene_bins]\n",
    "\n",
    "\n",
    "non_gene_bins = []\n",
    "with open('mappings/non_gene_bins.txt', 'r') as file:\n",
    "    for line in file:\n",
    "        non_gene_bins.append(line.strip())\n",
    "non_gene_bins = [int(x) for x in non_gene_bins]\n",
    "\n"
   ]
  },
  {
   "cell_type": "code",
   "execution_count": 4,
   "id": "08987f46",
   "metadata": {},
   "outputs": [],
   "source": [
    "\n",
    "def build_walk_index(contact_matrix):\n",
    "    \"\"\"\n",
    "    Precompute for each node:\n",
    "      - neighbors[i]: 1D int array of neighbors\n",
    "      - cdfs[i]:      1D float array of cumulative probabilities\n",
    "    \"\"\"\n",
    "    N = contact_matrix.shape[0]\n",
    "    neighbors = [None]*N\n",
    "    cdfs      = [None]*N\n",
    "\n",
    "    for i in tqdm(range(N)):\n",
    "        w = contact_matrix[i]\n",
    "        idx = np.nonzero(w)[0]\n",
    "        if idx.size == 0:\n",
    "            neighbors[i] = np.empty(0, dtype=int)\n",
    "            cdfs[i]      = np.empty(0, dtype=float)\n",
    "        else:\n",
    "            probs = w[idx] / w[idx].sum()\n",
    "            neighbors[i] = idx\n",
    "            cdfs[i]      = np.cumsum(probs)\n",
    "    return neighbors, cdfs\n",
    "\n",
    "\n",
    "\n"
   ]
  },
  {
   "cell_type": "code",
   "execution_count": 5,
   "id": "f44b02d6",
   "metadata": {},
   "outputs": [
    {
     "name": "stderr",
     "output_type": "stream",
     "text": [
      "100%|████████████████████████████████████████████████████████████████████████████████████████████████████████████████████████████████████████████████████████████| 30894/30894 [00:12<00:00, 2556.86it/s]\n"
     ]
    }
   ],
   "source": [
    "contact_matrix_zero = np.load('data/hic/wildtype_100kb_zeroed.npy')\n",
    "neighbors, cdfs = build_walk_index(contact_matrix_zero) "
   ]
  },
  {
   "cell_type": "code",
   "execution_count": 9,
   "id": "ac49a52f-c808-4ad0-b253-53b39250905b",
   "metadata": {},
   "outputs": [
    {
     "data": {
      "text/plain": [
       "[4275, 30478, 25137, 30357, 29661]"
      ]
     },
     "execution_count": 9,
     "metadata": {},
     "output_type": "execute_result"
    }
   ],
   "source": [
    "cf.find_greedy_clique(contact_matrix_zero, 5, TTN_BIN)"
   ]
  },
  {
   "cell_type": "code",
   "execution_count": 6,
   "id": "aa24bd2a",
   "metadata": {},
   "outputs": [
    {
     "name": "stderr",
     "output_type": "stream",
     "text": [
      "Random walks: 100%|██████████████████████████████████████████████████████████████████████████████████████████████████████████████████████████████████████████████| 10000/10000 [18:28<00:00,  9.02iter/s]\n",
      "Random walks: 100%|██████████████████████████████████████████████████████████████████████████████████████████████████████████████████████████████████████████████| 10000/10000 [14:36<00:00, 11.41iter/s]\n",
      "Random walks: 100%|██████████████████████████████████████████████████████████████████████████████████████████████████████████████████████████████████████████████| 10000/10000 [08:42<00:00, 19.12iter/s]\n",
      "Random walks: 100%|██████████████████████████████████████████████████████████████████████████████████████████████████████████████████████████████████████████████| 10000/10000 [07:09<00:00, 23.27iter/s]\n",
      "Random walks: 100%|██████████████████████████████████████████████████████████████████████████████████████████████████████████████████████████████████████████████| 10000/10000 [03:02<00:00, 54.92iter/s]\n",
      "Random walks: 100%|██████████████████████████████████████████████████████████████████████████████████████████████████████████████████████████████████████████████| 10000/10000 [02:20<00:00, 71.22iter/s]\n",
      "Random walks: 100%|██████████████████████████████████████████████████████████████████████████████████████████████████████████████████████████████████████████████| 10000/10000 [02:26<00:00, 68.06iter/s]\n",
      "Random walks: 100%|██████████████████████████████████████████████████████████████████████████████████████████████████████████████████████████████████████████████| 10000/10000 [01:56<00:00, 85.52iter/s]\n",
      "Random walks: 100%|█████████████████████████████████████████████████████████████████████████████████████████████████████████████████████████████████████████████| 10000/10000 [01:33<00:00, 107.39iter/s]\n",
      "Random walks: 100%|█████████████████████████████████████████████████████████████████████████████████████████████████████████████████████████████████████████████| 10000/10000 [01:18<00:00, 126.91iter/s]\n",
      "Random walks: 100%|█████████████████████████████████████████████████████████████████████████████████████████████████████████████████████████████████████████████| 10000/10000 [01:09<00:00, 144.01iter/s]\n",
      "Random walks: 100%|█████████████████████████████████████████████████████████████████████████████████████████████████████████████████████████████████████████████| 10000/10000 [00:53<00:00, 185.78iter/s]\n",
      "Random walks: 100%|█████████████████████████████████████████████████████████████████████████████████████████████████████████████████████████████████████████████| 10000/10000 [00:35<00:00, 281.81iter/s]\n",
      "Random walks: 100%|█████████████████████████████████████████████████████████████████████████████████████████████████████████████████████████████████████████████| 10000/10000 [00:26<00:00, 374.24iter/s]\n",
      "Random walks: 100%|█████████████████████████████████████████████████████████████████████████████████████████████████████████████████████████████████████████████| 10000/10000 [00:20<00:00, 489.68iter/s]\n",
      "Random walks: 100%|█████████████████████████████████████████████████████████████████████████████████████████████████████████████████████████████████████████████| 10000/10000 [00:15<00:00, 643.89iter/s]\n"
     ]
    },
    {
     "data": {
      "image/png": "[encoded data removed]",
      "text/plain": [
       "<Figure size 600x500 with 1 Axes>"
      ]
     },
     "metadata": {},
     "output_type": "display_data"
    }
   ],
   "source": [
    "import functions as f\n",
    "from matplotlib.ticker import ScalarFormatter\n",
    "from scipy import stats\n",
    "\n",
    "clique_size     = 5\n",
    "num_iterations  = 10000\n",
    "alphas          = [0.05, 0.1, 0.25, 0.3, 0.4, 0.5, 0.75, 0.99]\n",
    "\n",
    "fold_changes = []\n",
    "p_values     = []\n",
    "\n",
    "for alpha in alphas:\n",
    "    bg_strong = background_model.create_rw(\n",
    "        contact_matrix_zero,\n",
    "        clique_size,\n",
    "        bins=gene_bins,\n",
    "        label='strong',\n",
    "        num_molecules=1000,\n",
    "        neighbors=neighbors,\n",
    "        cdfs=cdfs,\n",
    "        num_iterations=num_iterations,\n",
    "        alpha=alpha,\n",
    "        plot=False\n",
    "    )\n",
    "    bg_weak = background_model.create_rw(\n",
    "        contact_matrix_zero,\n",
    "        clique_size,\n",
    "        bins=non_gene_bins,\n",
    "        label='weak',\n",
    "        num_molecules=1000,\n",
    "        neighbors=neighbors,\n",
    "        cdfs=cdfs,\n",
    "        num_iterations=num_iterations,\n",
    "        alpha=alpha,\n",
    "        plot=False\n",
    "    )\n",
    "\n",
    "    fold_change = np.median(bg_strong) / np.median(bg_weak)\n",
    "    _, p_value  = stats.mannwhitneyu(bg_strong, bg_weak, alternative='greater')\n",
    "\n",
    "    fold_changes.append(fold_change)\n",
    "    p_values.append(p_value)\n",
    "\n",
    "\n",
    "fig, ax = plt.subplots(figsize=(6, 5))\n",
    "\n",
    "# Fold Change vs Alpha\n",
    "ax.plot(alphas, fold_changes, marker='o')\n",
    "ax.set_xscale('log')\n",
    "ax.set_xticks(alphas)\n",
    "ax.get_xaxis().set_major_formatter(ScalarFormatter())\n",
    "ax.set_xlabel('Alpha Value')\n",
    "ax.set_ylabel('Fold Change')\n",
    "ax.set_title('Fold Change vs Alpha')\n",
    "ax.grid(True)\n",
    "\n",
    "plt.tight_layout()\n",
    "plt.show()"
   ]
  },
  {
   "cell_type": "code",
   "execution_count": null,
   "id": "9df665b1-a9c1-47e1-8be8-9bc3498ff0d4",
   "metadata": {},
   "outputs": [],
   "source": []
  }
 ],
 "metadata": {
  "kernelspec": {
   "display_name": "Python (chromatin38)",
   "language": "python",
   "name": "chromatin38"
  },
  "language_info": {
   "codemirror_mode": {
    "name": "ipython",
    "version": 3
   },
   "file_extension": ".py",
   "mimetype": "text/x-python",
   "name": "python",
   "nbconvert_exporter": "python",
   "pygments_lexer": "ipython3",
   "version": "3.8.20"
  }
 },
 "nbformat": 4,
 "nbformat_minor": 5
}
