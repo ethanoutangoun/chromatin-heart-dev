{
 "cells": [
  {
   "cell_type": "markdown",
   "metadata": {},
   "source": [
    "# Expanse Notebook for Computational Analysis of Chromatin During Heart Development"
   ]
  },
  {
   "cell_type": "markdown",
   "metadata": {},
   "source": [
    "This notebook will be used exclusively to perform expensive operations on Expanse. "
   ]
  },
  {
   "cell_type": "markdown",
   "metadata": {},
   "source": [
    "### Setup"
   ]
  },
  {
   "cell_type": "code",
   "execution_count": 1,
   "metadata": {},
   "outputs": [],
   "source": [
    "%load_ext autoreload\n",
    "%autoreload 2"
   ]
  },
  {
   "cell_type": "code",
   "execution_count": 9,
   "metadata": {},
   "outputs": [],
   "source": [
    "import numpy as np\n",
    "import pandas as pd\n",
    "import matplotlib.pyplot as plt\n",
    "from tqdm import tqdm\n",
    "from time import time\n",
    "\n",
    "# TODO: Move functions to separate modules\n",
    "import functions as f\n",
    "\n",
    "import scripts.clique_finding as cf"
   ]
  },
  {
   "cell_type": "code",
   "execution_count": 3,
   "metadata": {},
   "outputs": [],
   "source": [
    "TTN_BIN = 4275\n",
    "bin_map = f.load_bin_map('mappings/bin_map_human_100000.bed')\n",
    "contact_matrix_zero = np.load('samples/contact_matrix_100kb_balanced_zeroed.npy')"
   ]
  },
  {
   "cell_type": "code",
   "execution_count": 4,
   "metadata": {},
   "outputs": [
    {
     "name": "stderr",
     "output_type": "stream",
     "text": [
      "100%|██████████| 30894/30894 [00:16<00:00, 1828.63it/s]\n"
     ]
    }
   ],
   "source": [
    "def build_walk_index(contact_matrix):\n",
    "    \"\"\"\n",
    "    Precompute for each node:\n",
    "      - neighbors[i]: 1D int array of neighbors\n",
    "      - cdfs[i]:      1D float array of cumulative probabilities\n",
    "    \"\"\"\n",
    "    N = contact_matrix.shape[0]\n",
    "    neighbors = [None]*N\n",
    "    cdfs      = [None]*N\n",
    "\n",
    "    for i in tqdm(range(N)):\n",
    "        w = contact_matrix[i]\n",
    "        idx = np.nonzero(w)[0]\n",
    "        if idx.size == 0:\n",
    "            neighbors[i] = np.empty(0, dtype=int)\n",
    "            cdfs[i]      = np.empty(0, dtype=float)\n",
    "        else:\n",
    "            probs = w[idx] / w[idx].sum()\n",
    "            neighbors[i] = idx\n",
    "            cdfs[i]      = np.cumsum(probs)\n",
    "    return neighbors, cdfs\n",
    "\n",
    "neighbors, cdfs = build_walk_index(contact_matrix_zero) \n",
    "\n"
   ]
  },
  {
   "cell_type": "markdown",
   "metadata": {},
   "source": [
    "### Random Walking Time Test\n"
   ]
  },
  {
   "cell_type": "code",
   "execution_count": null,
   "metadata": {},
   "outputs": [
    {
     "name": "stdout",
     "output_type": "stream",
     "text": [
      "Time taken: 13.749757766723633 seconds\n"
     ]
    }
   ],
   "source": [
    "import functions as f\n",
    "\n",
    "from time import time\n",
    "\n",
    "start = time()\n",
    "\n",
    "\n",
    "f.random_walk_fast(\n",
    "    contact_matrix_zero, TTN_BIN, 5,\n",
    "    neighbors=neighbors, cdfs=cdfs,\n",
    "    num_molecules=10000, alpha=0.05\n",
    ")\n",
    "end = time()\n",
    "\n",
    "print(f\"Time taken: {end - start} seconds\")"
   ]
  },
  {
   "cell_type": "markdown",
   "metadata": {},
   "source": [
    "### Analytical Diffusion Test"
   ]
  },
  {
   "cell_type": "code",
   "execution_count": 13,
   "metadata": {},
   "outputs": [],
   "source": [
    "# create a sample matrix\n",
    "num_sample_bins = 10000\n",
    "sample_matrix = f.generate_sample_matrix_bins(10000)\n",
    "\n",
    "\n",
    "if (num_sample_bins < 10000):\n",
    "    # visualize the contact matrix hic \n",
    "    plt.imshow(sample_matrix, cmap='hot', interpolation='nearest')\n",
    "    plt.show()\n"
   ]
  },
  {
   "cell_type": "code",
   "execution_count": 15,
   "metadata": {},
   "outputs": [
    {
     "name": "stdout",
     "output_type": "stream",
     "text": [
      "Sample Clique: [   4 2000 1000  995  122  369]\n",
      "Time taken: 19.993407011032104 seconds\n"
     ]
    }
   ],
   "source": [
    "start = time()\n",
    "sample_clique = cf.analytical_diffusion_clique(sample_matrix, start_node=4, n=6)[0]\n",
    "end = time()\n",
    "\n",
    "print(\"Sample Clique:\", sample_clique)\n",
    "print(f\"Time taken: {end - start} seconds\")"
   ]
  },
  {
   "cell_type": "code",
   "execution_count": 17,
   "metadata": {},
   "outputs": [
    {
     "name": "stdout",
     "output_type": "stream",
     "text": [
      "Sample Clique: [   4 2000 1000  995  122  369]\n",
      "Time taken: 26.47953486442566 seconds\n"
     ]
    }
   ],
   "source": [
    "start = time()\n",
    "sample_clique = cf.analytical_diffusion_clique(sample_matrix, start_node=4, n=6)[0]\n",
    "end = time()\n",
    "\n",
    "print(\"Sample Clique:\", sample_clique)\n",
    "print(f\"Time taken: {end - start} seconds\")"
   ]
  },
  {
   "cell_type": "markdown",
   "metadata": {},
   "source": [
    "### Get 40-Clique of TTN and Corresponding Genes"
   ]
  },
  {
   "cell_type": "code",
   "execution_count": 16,
   "metadata": {},
   "outputs": [],
   "source": [
    "top_40_clique_rw = cf.random_walk(contact_matrix_zero, TTN_BIN, 40, num_molecules=100000, alpha=0.05, neighbors=neighbors, cdfs=cdfs)"
   ]
  },
  {
   "cell_type": "code",
   "execution_count": 5,
   "metadata": {},
   "outputs": [],
   "source": [
    "top_40_clique_greedy = cf.find_greedy_clique(\n",
    "    contact_matrix_zero, 40, TTN_BIN\n",
    ")"
   ]
  },
  {
   "cell_type": "code",
   "execution_count": 8,
   "metadata": {},
   "outputs": [
    {
     "name": "stdout",
     "output_type": "stream",
     "text": [
      "Overlapping nodes between the two cliques:\n",
      "[4275]\n"
     ]
    }
   ],
   "source": [
    "# overlapping nodes from the two cliques\n",
    "overlapping_nodes = np.intersect1d(top_40_clique_rw, top_40_clique_greedy)\n",
    "print(\"Overlapping nodes between the two cliques:\")\n",
    "print(overlapping_nodes)\n"
   ]
  },
  {
   "cell_type": "code",
   "execution_count": null,
   "metadata": {},
   "outputs": [],
   "source": [
    "top_40_diffusion = cf.analytical_diffusion_clique(contact_matrix_zero, TTN_BIN, 40, alpha=0.05)[0]"
   ]
  },
  {
   "cell_type": "code",
   "execution_count": null,
   "metadata": {},
   "outputs": [],
   "source": [
    "# overlapping nodes from the two cliques\n",
    "overlapping_nodes_diffusion = np.intersect1d(top_40_clique_rw, top_40_diffusion)\n",
    "print(\"Overlapping nodes between the two cliques:\")\n",
    "print(overlapping_nodes_diffusion)"
   ]
  }
 ],
 "metadata": {
  "kernelspec": {
   "display_name": "expanse38",
   "language": "python",
   "name": "python3"
  },
  "language_info": {
   "codemirror_mode": {
    "name": "ipython",
    "version": 3
   },
   "file_extension": ".py",
   "mimetype": "text/x-python",
   "name": "python",
   "nbconvert_exporter": "python",
   "pygments_lexer": "ipython3",
   "version": "3.8.20"
  }
 },
 "nbformat": 4,
 "nbformat_minor": 2
}
