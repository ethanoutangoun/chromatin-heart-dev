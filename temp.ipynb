{
 "cells": [
  {
   "cell_type": "code",
   "execution_count": 2,
   "id": "01eabd04",
   "metadata": {},
   "outputs": [
    {
     "name": "stderr",
     "output_type": "stream",
     "text": [
      "[I 2025-05-25 04:13:14,849] A new study created in memory with name: no-name-2901154f-8cfd-4789-9746-e6240714d480\n",
      "[I 2025-05-25 04:13:23,229] Trial 0 finished with value: 0.566 and parameters: {'alpha': 0.01}. Best is trial 0 with value: 0.566.\n",
      "[I 2025-05-25 04:13:32,421] Trial 1 finished with value: 0.0935 and parameters: {'alpha': 0.95}. Best is trial 1 with value: 0.0935.\n",
      "[I 2025-05-25 04:13:40,844] Trial 2 finished with value: 0.1115 and parameters: {'alpha': 0.33978462394792286}. Best is trial 1 with value: 0.0935.\n",
      "[I 2025-05-25 04:13:49,265] Trial 3 finished with value: 0.7245 and parameters: {'alpha': 0.0775322610348128}. Best is trial 1 with value: 0.0935.\n",
      "[I 2025-05-25 04:13:57,576] Trial 4 finished with value: 0.7655 and parameters: {'alpha': 0.03975114423797053}. Best is trial 1 with value: 0.0935.\n"
     ]
    }
   ],
   "source": [
    "import numpy as np\n",
    "import functions as f\n",
    "import core.optimizer\n",
    "# GLOBALS\n",
    "\n",
    "\n",
    "BIN_MAP_PATH = 'mappings/bin_map_human_100000.bed'\n",
    "GTF_PATH = 'mappings/gencode.v38.annotation.gtf'\n",
    "GENE_BIN_PATH = 'mappings/gene_bins.txt'\n",
    "NON_GENE_BIN_PATH = 'mappings/non_gene_bins.txt'\n",
    "\n",
    "\n",
    "gene_bins = []\n",
    "with open('mappings/gene_bins.txt', 'r') as file:\n",
    "    for line in file:\n",
    "        gene_bins.append(line.strip())\n",
    "gene_bins = [int(x) for x in gene_bins]\n",
    "\n",
    "\n",
    "non_gene_bins = []\n",
    "with open('mappings/non_gene_bins.txt', 'r') as file:\n",
    "    for line in file:\n",
    "        non_gene_bins.append(line.strip())\n",
    "non_gene_bins = [int(x) for x in non_gene_bins]\n",
    "\n",
    "TTN_BIN = 4275\n",
    "TTN_BIN = 100\n",
    "\n",
    "# contact_matrix_zero = np.load('data/hic/wt_100kb_balanced_zeroed_no_chrY.npy')\n",
    "contact_matrix_zero = f.generate_sample_matrix_bins(2000)\n",
    "\n",
    "res = core.optimizer.optimize_diffusion_params_smart(contact_matrix_zero, TTN_BIN, (5,50), (0.01, 0.95), n_trials=5, timeout_minutes=1)"
   ]
  }
 ],
 "metadata": {
  "kernelspec": {
   "display_name": "expanse38",
   "language": "python",
   "name": "python3"
  },
  "language_info": {
   "codemirror_mode": {
    "name": "ipython",
    "version": 3
   },
   "file_extension": ".py",
   "mimetype": "text/x-python",
   "name": "python",
   "nbconvert_exporter": "python",
   "pygments_lexer": "ipython3",
   "version": "3.8.20"
  }
 },
 "nbformat": 4,
 "nbformat_minor": 5
}
