{
 "cells": [
  {
   "cell_type": "markdown",
   "metadata": {},
   "source": [
    "# Expanse Notebook for Computational Analysis of Chromatin During Heart Development"
   ]
  },
  {
   "cell_type": "markdown",
   "metadata": {},
   "source": [
    "This notebook will be used exclusively to perform expensive operations on Expanse. "
   ]
  },
  {
   "cell_type": "markdown",
   "metadata": {},
   "source": [
    "### Setup"
   ]
  },
  {
   "cell_type": "code",
   "execution_count": 21,
   "metadata": {},
   "outputs": [
    {
     "name": "stdout",
     "output_type": "stream",
     "text": [
      "The autoreload extension is already loaded. To reload it, use:\n",
      "  %reload_ext autoreload\n"
     ]
    }
   ],
   "source": [
    "%load_ext autoreload\n",
    "%autoreload 2"
   ]
  },
  {
   "cell_type": "code",
   "execution_count": 22,
   "metadata": {},
   "outputs": [],
   "source": [
    "import numpy as np\n",
    "import pandas as pd\n",
    "import matplotlib.pyplot as plt\n",
    "from tqdm import tqdm\n",
    "from time import time\n",
    "\n",
    "# TODO: Move functions to separate modules\n",
    "import functions as f\n",
    "\n",
    "import core.clique_finding as cf"
   ]
  },
  {
   "cell_type": "code",
   "execution_count": 23,
   "metadata": {},
   "outputs": [],
   "source": [
    "# GLOBALS\n",
    "\n",
    "TTN_BIN = 4275\n",
    "BIN_MAP_PATH = 'mappings/bin_map_human_100000.bed'\n",
    "GTF_PATH = 'mappings/gencode.v38.annotation.gtf'"
   ]
  },
  {
   "cell_type": "code",
   "execution_count": 25,
   "metadata": {},
   "outputs": [
    {
     "name": "stderr",
     "output_type": "stream",
     "text": [
      "100%|██████████| 30894/30894 [00:15<00:00, 1966.59it/s]\n"
     ]
    }
   ],
   "source": [
    "# LOADING DATA\n",
    "\n",
    "bin_map = f.load_bin_map('mappings/bin_map_human_100000.bed')\n",
    "contact_matrix_zero = np.load('samples/contact_matrix_100kb_balanced_zeroed.npy')\n",
    "neighbors, cdfs = f.build_walk_index(contact_matrix_zero) "
   ]
  },
  {
   "cell_type": "markdown",
   "metadata": {},
   "source": [
    "## Stat Modeling"
   ]
  },
  {
   "cell_type": "code",
   "execution_count": null,
   "metadata": {},
   "outputs": [],
   "source": []
  },
  {
   "cell_type": "markdown",
   "metadata": {},
   "source": [
    "### Get 40-Clique of TTN and Corresponding Genes"
   ]
  },
  {
   "cell_type": "code",
   "execution_count": 9,
   "metadata": {},
   "outputs": [],
   "source": [
    "top_40_clique_rw = cf.random_walk(contact_matrix_zero, TTN_BIN, 40, num_molecules=100000, alpha=0.05, neighbors=neighbors, cdfs=cdfs)"
   ]
  },
  {
   "cell_type": "code",
   "execution_count": 10,
   "metadata": {},
   "outputs": [],
   "source": [
    "top_40_clique_greedy = cf.find_greedy_clique(\n",
    "    contact_matrix_zero, 40, TTN_BIN\n",
    ")"
   ]
  },
  {
   "cell_type": "code",
   "execution_count": 11,
   "metadata": {},
   "outputs": [
    {
     "name": "stdout",
     "output_type": "stream",
     "text": [
      "Overlapping nodes between the two cliques:\n",
      "[ 4275 30357 30369 30478]\n"
     ]
    }
   ],
   "source": [
    "# overlapping nodes from the two cliques\n",
    "overlapping_nodes = np.intersect1d(top_40_clique_rw, top_40_clique_greedy)\n",
    "print(\"Overlapping nodes between the two cliques:\")\n",
    "print(overlapping_nodes)\n"
   ]
  },
  {
   "cell_type": "code",
   "execution_count": 12,
   "metadata": {},
   "outputs": [
    {
     "name": "stdout",
     "output_type": "stream",
     "text": [
      "TTN Clique: [ 4275 30478 28240 28248 30543 27873 30350 30378 30387 30386 30369 30432\n",
      " 30586 30357 28243 30434 28236 21918 27880 30423 24025 27887 28358 27881\n",
      " 28361 28377 28366 27139 20604 27886 28247 28364 27889 11886 30359 19160\n",
      " 27835  8796 28212 21915]\n",
      "Time taken: 417.7960503101349 seconds\n"
     ]
    }
   ],
   "source": [
    "start = time()\n",
    "top_40_diffusion = cf.analytical_diffusion_clique(contact_matrix_zero, TTN_BIN, 40, alpha=0.05)[0]\n",
    "\n",
    "end = time()\n",
    "print(\"TTN Clique:\", top_40_diffusion)\n",
    "print(f\"Time taken: {end - start} seconds\")\n",
    "\n",
    "with open(\"TTN_BINS_ANALYTICAL_DIFFUSION.txt\", 'w') as out:\n",
    "    for bin in top_40_diffusion:\n",
    "        out.write(f\"{bin}\\n\")\n"
   ]
  },
  {
   "cell_type": "code",
   "execution_count": 13,
   "metadata": {},
   "outputs": [
    {
     "name": "stdout",
     "output_type": "stream",
     "text": [
      "Overlapping nodes between the two cliques:\n",
      "[ 4275 24025 27873 27881 27887 28236 28248 28364 30357 30369 30378 30478\n",
      " 30543 30586]\n"
     ]
    }
   ],
   "source": [
    "# overlapping nodes from the two cliques\n",
    "overlapping_nodes_diffusion = np.intersect1d(top_40_clique_rw, top_40_diffusion)\n",
    "print(\"Overlapping nodes between the two cliques:\")\n",
    "print(overlapping_nodes_diffusion)"
   ]
  },
  {
   "cell_type": "code",
   "execution_count": 15,
   "metadata": {},
   "outputs": [
    {
     "name": "stderr",
     "output_type": "stream",
     "text": [
      "100%|█████████████████████████████████████████████████████████████████████████████████████████████| 40/40 [06:43<00:00, 10.08s/it]\n"
     ]
    }
   ],
   "source": [
    "from tqdm import tqdm\n",
    "\n",
    "TTN_GENES = set()\n",
    "for bin in tqdm(top_40_diffusion):\n",
    "    genes = f.find_gene_from_bin(bin, BIN_MAP_PATH, GTF_PATH)\n",
    "    TTN_GENES.update(genes)\n",
    "\n",
    "\n",
    "    "
   ]
  },
  {
   "cell_type": "code",
   "execution_count": 16,
   "metadata": {},
   "outputs": [],
   "source": [
    "with open(\"TTN_GENES_ANALYTICAL_DIFFUSION.txt\", 'w') as out:\n",
    "    for bin in TTN_GENES:\n",
    "        out.write(f\"{bin}\\n\")\n"
   ]
  }
 ],
 "metadata": {
  "kernelspec": {
   "display_name": "Python (chromatin38)",
   "language": "python",
   "name": "chromatin38"
  },
  "language_info": {
   "codemirror_mode": {
    "name": "ipython",
    "version": 3
   },
   "file_extension": ".py",
   "mimetype": "text/x-python",
   "name": "python",
   "nbconvert_exporter": "python",
   "pygments_lexer": "ipython3",
   "version": "3.8.20"
  }
 },
 "nbformat": 4,
 "nbformat_minor": 4
}
