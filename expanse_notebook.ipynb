{
 "cells": [
  {
   "cell_type": "markdown",
   "metadata": {},
   "source": [
    "# Expanse Notebook for Computational Analysis of Chromatin During Heart Development"
   ]
  },
  {
   "cell_type": "markdown",
   "metadata": {},
   "source": [
    "This notebook will be used exclusively to perform expensive operations on Expanse. "
   ]
  },
  {
   "cell_type": "markdown",
   "metadata": {},
   "source": [
    "### Setup"
   ]
  },
  {
   "cell_type": "code",
   "execution_count": 1,
   "metadata": {},
   "outputs": [],
   "source": [
    "%load_ext autoreload\n",
    "%autoreload 2"
   ]
  },
  {
   "cell_type": "code",
   "execution_count": 2,
   "metadata": {},
   "outputs": [],
   "source": [
    "import numpy as np\n",
    "import pandas as pd\n",
    "import matplotlib.pyplot as plt\n",
    "from tqdm import tqdm\n",
    "from time import time\n",
    "\n",
    "# TODO: Move functions to separate modules\n",
    "import functions as f\n",
    "\n",
    "import scripts.clique_finding as cf"
   ]
  },
  {
   "cell_type": "code",
   "execution_count": 3,
   "metadata": {},
   "outputs": [],
   "source": [
    "TTN_BIN = 4275\n",
    "bin_map = f.load_bin_map('mappings/bin_map_human_100000.bed')\n",
    "contact_matrix_zero = np.load('samples/contact_matrix_100kb_balanced_zeroed.npy')"
   ]
  },
  {
   "cell_type": "code",
   "execution_count": 4,
   "metadata": {},
   "outputs": [
    {
     "name": "stderr",
     "output_type": "stream",
     "text": [
      "100%|█████████████████████████████████████████████████████████████████████████████████████| 30894/30894 [00:10<00:00, 2901.51it/s]\n"
     ]
    }
   ],
   "source": [
    "def build_walk_index(contact_matrix):\n",
    "    \"\"\"\n",
    "    Precompute for each node:\n",
    "      - neighbors[i]: 1D int array of neighbors\n",
    "      - cdfs[i]:      1D float array of cumulative probabilities\n",
    "    \"\"\"\n",
    "    N = contact_matrix.shape[0]\n",
    "    neighbors = [None]*N\n",
    "    cdfs      = [None]*N\n",
    "\n",
    "    for i in tqdm(range(N)):\n",
    "        w = contact_matrix[i]\n",
    "        idx = np.nonzero(w)[0]\n",
    "        if idx.size == 0:\n",
    "            neighbors[i] = np.empty(0, dtype=int)\n",
    "            cdfs[i]      = np.empty(0, dtype=float)\n",
    "        else:\n",
    "            probs = w[idx] / w[idx].sum()\n",
    "            neighbors[i] = idx\n",
    "            cdfs[i]      = np.cumsum(probs)\n",
    "    return neighbors, cdfs\n",
    "\n",
    "neighbors, cdfs = build_walk_index(contact_matrix_zero) \n",
    "\n"
   ]
  },
  {
   "cell_type": "markdown",
   "metadata": {},
   "source": [
    "### Random Walking Time Test\n"
   ]
  },
  {
   "cell_type": "code",
   "execution_count": 5,
   "metadata": {},
   "outputs": [
    {
     "name": "stdout",
     "output_type": "stream",
     "text": [
      "Time taken: 0.8913464546203613 seconds\n"
     ]
    }
   ],
   "source": [
    "import functions as f\n",
    "\n",
    "from time import time\n",
    "\n",
    "start = time()\n",
    "\n",
    "\n",
    "f.random_walk_fast(\n",
    "    contact_matrix_zero, TTN_BIN, 5,\n",
    "    neighbors=neighbors, cdfs=cdfs,\n",
    "    num_molecules=10000, alpha=0.05\n",
    ")\n",
    "end = time()\n",
    "\n",
    "print(f\"Time taken: {end - start} seconds\")"
   ]
  },
  {
   "cell_type": "markdown",
   "metadata": {},
   "source": [
    "### Analytical Diffusion Test"
   ]
  },
  {
   "cell_type": "code",
   "execution_count": 6,
   "metadata": {},
   "outputs": [],
   "source": [
    "# create a sample matrix\n",
    "num_sample_bins = 10000\n",
    "sample_matrix = f.generate_sample_matrix_bins(10000)\n",
    "\n",
    "\n",
    "if (num_sample_bins < 10000):\n",
    "    # visualize the contact matrix hic \n",
    "    plt.imshow(sample_matrix, cmap='hot', interpolation='nearest')\n",
    "    plt.show()\n"
   ]
  },
  {
   "cell_type": "code",
   "execution_count": 7,
   "metadata": {},
   "outputs": [
    {
     "name": "stdout",
     "output_type": "stream",
     "text": [
      "Sample Clique: [   4 2000 1000  995  122  369]\n",
      "Time taken: 21.13571786880493 seconds\n"
     ]
    }
   ],
   "source": [
    "start = time()\n",
    "sample_clique = cf.analytical_diffusion_clique(sample_matrix, start_node=4, n=6)[0]\n",
    "end = time()\n",
    "\n",
    "print(\"Sample Clique:\", sample_clique)\n",
    "print(f\"Time taken: {end - start} seconds\")"
   ]
  },
  {
   "cell_type": "code",
   "execution_count": 17,
   "metadata": {},
   "outputs": [
    {
     "name": "stdout",
     "output_type": "stream",
     "text": [
      "Sample Clique: [   4 2000 1000  995  122  369]\n",
      "Time taken: 26.47953486442566 seconds\n"
     ]
    }
   ],
   "source": [
    "start = time()\n",
    "sample_clique = cf.analytical_diffusion_clique(sample_matrix, start_node=4, n=6)[0]\n",
    "\n",
    "\n",
    "print(\"Sample Clique:\", sample_clique)\n",
    "print(f\"Time taken: {end - start} seconds\")"
   ]
  },
  {
   "cell_type": "markdown",
   "metadata": {},
   "source": [
    "### Get 40-Clique of TTN and Corresponding Genes"
   ]
  },
  {
   "cell_type": "code",
   "execution_count": 9,
   "metadata": {},
   "outputs": [],
   "source": [
    "top_40_clique_rw = cf.random_walk(contact_matrix_zero, TTN_BIN, 40, num_molecules=100000, alpha=0.05, neighbors=neighbors, cdfs=cdfs)"
   ]
  },
  {
   "cell_type": "code",
   "execution_count": 10,
   "metadata": {},
   "outputs": [],
   "source": [
    "top_40_clique_greedy = cf.find_greedy_clique(\n",
    "    contact_matrix_zero, 40, TTN_BIN\n",
    ")"
   ]
  },
  {
   "cell_type": "code",
   "execution_count": 11,
   "metadata": {},
   "outputs": [
    {
     "name": "stdout",
     "output_type": "stream",
     "text": [
      "Overlapping nodes between the two cliques:\n",
      "[ 4275 30357 30369 30478]\n"
     ]
    }
   ],
   "source": [
    "# overlapping nodes from the two cliques\n",
    "overlapping_nodes = np.intersect1d(top_40_clique_rw, top_40_clique_greedy)\n",
    "print(\"Overlapping nodes between the two cliques:\")\n",
    "print(overlapping_nodes)\n"
   ]
  },
  {
   "cell_type": "code",
   "execution_count": 12,
   "metadata": {},
   "outputs": [
    {
     "name": "stdout",
     "output_type": "stream",
     "text": [
      "TTN Clique: [ 4275 30478 28240 28248 30543 27873 30350 30378 30387 30386 30369 30432\n",
      " 30586 30357 28243 30434 28236 21918 27880 30423 24025 27887 28358 27881\n",
      " 28361 28377 28366 27139 20604 27886 28247 28364 27889 11886 30359 19160\n",
      " 27835  8796 28212 21915]\n",
      "Time taken: 417.7960503101349 seconds\n"
     ]
    }
   ],
   "source": [
    "start = time()\n",
    "top_40_diffusion = cf.analytical_diffusion_clique(contact_matrix_zero, TTN_BIN, 40, alpha=0.05)[0]\n",
    "\n",
    "end = time()\n",
    "print(\"TTN Clique:\", top_40_diffusion)\n",
    "print(f\"Time taken: {end - start} seconds\")\n",
    "\n",
    "with open(\"TTN_BINS_ANALYTICAL_DIFFUSION.txt\", 'w') as out:\n",
    "    for bin in top_40_diffusion:\n",
    "        out.write(f\"{bin}\\n\")\n"
   ]
  },
  {
   "cell_type": "code",
   "execution_count": 13,
   "metadata": {},
   "outputs": [
    {
     "name": "stdout",
     "output_type": "stream",
     "text": [
      "Overlapping nodes between the two cliques:\n",
      "[ 4275 24025 27873 27881 27887 28236 28248 28364 30357 30369 30378 30478\n",
      " 30543 30586]\n"
     ]
    }
   ],
   "source": [
    "# overlapping nodes from the two cliques\n",
    "overlapping_nodes_diffusion = np.intersect1d(top_40_clique_rw, top_40_diffusion)\n",
    "print(\"Overlapping nodes between the two cliques:\")\n",
    "print(overlapping_nodes_diffusion)"
   ]
  },
  {
   "cell_type": "code",
   "execution_count": 15,
   "metadata": {},
   "outputs": [
    {
     "name": "stderr",
     "output_type": "stream",
     "text": [
      "100%|█████████████████████████████████████████████████████████████████████████████████████████████| 40/40 [06:43<00:00, 10.08s/it]\n"
     ]
    }
   ],
   "source": [
    "from tqdm import tqdm\n",
    "\n",
    "TTN_GENES = set()\n",
    "for bin in tqdm(top_40_diffusion):\n",
    "    genes = f.find_gene_from_bin(bin, 'mappings/bin_map_human_100000.bed', 'mappings/gencode.v38.annotation.gtf')\n",
    "    TTN_GENES.update(genes)\n",
    "\n",
    "\n",
    "    "
   ]
  },
  {
   "cell_type": "code",
   "execution_count": 16,
   "metadata": {},
   "outputs": [],
   "source": [
    "with open(\"TTN_GENES_ANALYTICAL_DIFFUSION.txt\", 'w') as out:\n",
    "    for bin in TTN_GENES:\n",
    "        out.write(f\"{bin}\\n\")\n"
   ]
  },
  {
   "cell_type": "markdown",
   "metadata": {},
   "source": [
    "### CuPy Testing"
   ]
  },
  {
   "cell_type": "code",
   "execution_count": 19,
   "metadata": {},
   "outputs": [
    {
     "ename": "ModuleNotFoundError",
     "evalue": "No module named 'cupy'",
     "output_type": "error",
     "traceback": [
      "\u001b[0;31m---------------------------------------------------------------------------\u001b[0m",
      "\u001b[0;31mModuleNotFoundError\u001b[0m                       Traceback (most recent call last)",
      "Cell \u001b[0;32mIn[19], line 1\u001b[0m\n\u001b[0;32m----> 1\u001b[0m \u001b[38;5;28;01mimport\u001b[39;00m \u001b[38;5;21;01mcupy\u001b[39;00m \u001b[38;5;28;01mas\u001b[39;00m \u001b[38;5;21;01mcp\u001b[39;00m\n\u001b[1;32m      3\u001b[0m \u001b[38;5;28;01mdef\u001b[39;00m \u001b[38;5;21mgpu_analytical_diffusion\u001b[39m(contact_cpu, start, n, alpha\u001b[38;5;241m=\u001b[39m\u001b[38;5;241m0.1\u001b[39m):\n\u001b[1;32m      4\u001b[0m     \u001b[38;5;66;03m# 1) move to GPU\u001b[39;00m\n\u001b[1;32m      5\u001b[0m     M \u001b[38;5;241m=\u001b[39m cp\u001b[38;5;241m.\u001b[39masarray(contact_cpu, dtype\u001b[38;5;241m=\u001b[39mcp\u001b[38;5;241m.\u001b[39mfloat32)\n",
      "\u001b[0;31mModuleNotFoundError\u001b[0m: No module named 'cupy'"
     ]
    }
   ],
   "source": [
    "import cupy as cp\n",
    "\n",
    "def gpu_analytical_diffusion(contact_cpu, start, n, alpha=0.1):\n",
    "    # 1) move to GPU\n",
    "    M = cp.asarray(contact_cpu, dtype=cp.float32)\n",
    "    N = M.shape[0]\n",
    "\n",
    "    # 2) build P and invert\n",
    "    row_sums = M.sum(axis=1)\n",
    "    P = M / row_sums[:, None]\n",
    "    I = cp.eye(N, dtype=cp.float32)\n",
    "    F = cp.linalg.inv(I - (1 - alpha) * P)\n",
    "\n",
    "    # 3) pull back just the row we need\n",
    "    visits = cp.asnumpy(F[start, :])\n",
    "    clique = np.argsort(visits)[-n:][::-1]\n",
    "    return clique, visits"
   ]
  },
  {
   "cell_type": "code",
   "execution_count": 18,
   "metadata": {},
   "outputs": [
    {
     "ename": "NameError",
     "evalue": "name 'gpu_analytical_diffusion' is not defined",
     "output_type": "error",
     "traceback": [
      "\u001b[0;31m---------------------------------------------------------------------------\u001b[0m",
      "\u001b[0;31mNameError\u001b[0m                                 Traceback (most recent call last)",
      "Cell \u001b[0;32mIn[18], line 2\u001b[0m\n\u001b[1;32m      1\u001b[0m start \u001b[38;5;241m=\u001b[39m time()\n\u001b[0;32m----> 2\u001b[0m clique, visits \u001b[38;5;241m=\u001b[39m \u001b[43mgpu_analytical_diffusion\u001b[49m(contact_matrix_zero, TTN_BIN, \u001b[38;5;241m40\u001b[39m, alpha\u001b[38;5;241m=\u001b[39m\u001b[38;5;241m0.05\u001b[39m)\n\u001b[1;32m      3\u001b[0m end \u001b[38;5;241m=\u001b[39m time()\n\u001b[1;32m      5\u001b[0m \u001b[38;5;28mprint\u001b[39m(\u001b[38;5;124m\"\u001b[39m\u001b[38;5;124mTTN Clique:\u001b[39m\u001b[38;5;124m\"\u001b[39m, clique)\n",
      "\u001b[0;31mNameError\u001b[0m: name 'gpu_analytical_diffusion' is not defined"
     ]
    }
   ],
   "source": [
    "start = time()\n",
    "clique, visits = gpu_analytical_diffusion(contact_matrix_zero, TTN_BIN, 40, alpha=0.05)\n",
    "end = time()\n",
    "\n",
    "print(\"TTN Clique:\", clique)\n",
    "print(f\"Time taken: {end - start} seconds\")\n",
    "\n",
    "with open(\"TTN_BINS_GPU_ANALYTICAL_DIFFUSION.txt\", 'w') as out:\n",
    "    for bin in clique:\n",
    "        out.write(f\"{bin}\\n\")"
   ]
  }
 ],
 "metadata": {
  "kernelspec": {
   "display_name": "Python (chromatin38)",
   "language": "python",
   "name": "chromatin38"
  },
  "language_info": {
   "codemirror_mode": {
    "name": "ipython",
    "version": 3
   },
   "file_extension": ".py",
   "mimetype": "text/x-python",
   "name": "python",
   "nbconvert_exporter": "python",
   "pygments_lexer": "ipython3",
   "version": "3.8.20"
  }
 },
 "nbformat": 4,
 "nbformat_minor": 4
}
