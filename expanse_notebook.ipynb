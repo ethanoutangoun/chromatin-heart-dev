{
 "cells": [
  {
   "cell_type": "markdown",
   "metadata": {},
   "source": [
    "# Expanse Notebook for Computational Analysis of Chromatin During Heart Development"
   ]
  },
  {
   "cell_type": "markdown",
   "metadata": {},
   "source": [
    "This notebook will be used exclusively to perform expensive operations on Expanse. "
   ]
  },
  {
   "cell_type": "code",
   "execution_count": 4,
   "metadata": {},
   "outputs": [
    {
     "name": "stdout",
     "output_type": "stream",
     "text": [
      "The autoreload extension is already loaded. To reload it, use:\n",
      "  %reload_ext autoreload\n"
     ]
    }
   ],
   "source": [
    "%load_ext autoreload\n",
    "%autoreload 2"
   ]
  },
  {
   "cell_type": "code",
   "execution_count": 3,
   "metadata": {},
   "outputs": [],
   "source": [
    "import numpy as np\n",
    "import pandas as pd\n",
    "import matplotlib.pyplot as plt\n",
    "import functions as f\n",
    "from tqdm import tqdm\n",
    "\n",
    "TTN_BIN = 4275\n",
    "bin_map = f.load_bin_map('data/bin_map_human_100000.bed')\n",
    "contact_matrix_zero = np.load('samples/contact_matrix_100kb_balanced_zeroed.npy')"
   ]
  },
  {
   "cell_type": "code",
   "execution_count": 4,
   "metadata": {},
   "outputs": [
    {
     "name": "stderr",
     "output_type": "stream",
     "text": [
      "Python(64672) MallocStackLogging: can't turn off malloc stack logging because it was not enabled.\n",
      "100%|██████████| 30894/30894 [00:10<00:00, 2945.33it/s]\n"
     ]
    }
   ],
   "source": [
    "\n",
    "def build_walk_index(contact_matrix):\n",
    "    \"\"\"\n",
    "    Precompute for each node:\n",
    "      - neighbors[i]: 1D int array of neighbors\n",
    "      - cdfs[i]:      1D float array of cumulative probabilities\n",
    "    \"\"\"\n",
    "    N = contact_matrix.shape[0]\n",
    "    neighbors = [None]*N\n",
    "    cdfs      = [None]*N\n",
    "\n",
    "    for i in tqdm(range(N)):\n",
    "        w = contact_matrix[i]\n",
    "        idx = np.nonzero(w)[0]\n",
    "        if idx.size == 0:\n",
    "            neighbors[i] = np.empty(0, dtype=int)\n",
    "            cdfs[i]      = np.empty(0, dtype=float)\n",
    "        else:\n",
    "            probs = w[idx] / w[idx].sum()\n",
    "            neighbors[i] = idx\n",
    "            cdfs[i]      = np.cumsum(probs)\n",
    "    return neighbors, cdfs\n",
    "\n",
    "neighbors, cdfs = build_walk_index(contact_matrix_zero) \n",
    "\n"
   ]
  },
  {
   "cell_type": "markdown",
   "metadata": {},
   "source": [
    "### Random Walking Time Test\n"
   ]
  },
  {
   "cell_type": "code",
   "execution_count": 5,
   "metadata": {},
   "outputs": [
    {
     "name": "stdout",
     "output_type": "stream",
     "text": [
      "Time taken: 28.83447003364563 seconds\n"
     ]
    }
   ],
   "source": [
    "import functions as f\n",
    "\n",
    "from time import time\n",
    "\n",
    "start = time()\n",
    "\n",
    "\n",
    "f.random_walk_fast(\n",
    "    contact_matrix_zero, TTN_BIN, 5,\n",
    "    neighbors=neighbors, cdfs=cdfs,\n",
    "    num_molecules=10000, alpha=0.05\n",
    ")\n",
    "end = time()\n",
    "\n",
    "print(f\"Time taken: {end - start} seconds\")"
   ]
  },
  {
   "cell_type": "markdown",
   "metadata": {},
   "source": [
    "### Analytical Diffusion Test"
   ]
  },
  {
   "cell_type": "code",
   "execution_count": null,
   "metadata": {},
   "outputs": [],
   "source": []
  }
 ],
 "metadata": {
  "kernelspec": {
   "display_name": "venv",
   "language": "python",
   "name": "python3"
  },
  "language_info": {
   "codemirror_mode": {
    "name": "ipython",
    "version": 3
   },
   "file_extension": ".py",
   "mimetype": "text/x-python",
   "name": "python",
   "nbconvert_exporter": "python",
   "pygments_lexer": "ipython3",
   "version": "3.13.1"
  }
 },
 "nbformat": 4,
 "nbformat_minor": 2
}
